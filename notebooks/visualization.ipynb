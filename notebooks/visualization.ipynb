{
 "cells": [
  {
   "cell_type": "code",
   "execution_count": null,
   "id": "a5103837",
   "metadata": {},
   "outputs": [],
   "source": [
    "fig = px.scatter(\n",
    "    df_c,\n",
    "    x='TotalPay',\n",
    "    y='BasePay',\n",
    "    title=None,\n",
    "    labels={\"TotalPay\":\"what you want\",\"BasePay\":\"what you want\"}\n",
    "    color='Year',\n",
    "    size='TotalPayBenefits',\n",
    "    hover_data=['EmployeeName', 'JobTitle'],\n",
    "    trendline='ols',\n",
    "    facet_col=None,\n",
    "    facet_row=None\n",
    ")\n",
    "fig.show()\n"
   ]
  },
  {
   "cell_type": "code",
   "execution_count": null,
   "id": "9d6ffac0",
   "metadata": {},
   "outputs": [],
   "source": []
  }
 ],
 "metadata": {
  "language_info": {
   "name": "python"
  }
 },
 "nbformat": 4,
 "nbformat_minor": 5
}
